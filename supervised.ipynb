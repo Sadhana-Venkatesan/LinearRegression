import pandas as pd;
import matplotlib.pyplot as plt
import numpy as np
from sklearn.model_selection import train_test_split
from sklearn.linear_model import LinearRegression
from sklearn.metrics import r2_score as r2,mean_squared_error as mse
link="http://bit.ly/w-data"
study=pd.read_csv(link)
study.head()
x=study['Hours'].values.reshape(-1,1)
y=study['Scores'].values.reshape(-1,1)
x_train,x_test,y_train,y_test=train_test_split(x,y,test_size=0.3)
lr=LinearRegression()
model=lr.fit(x_train,y_train)
ypredict=model.predict(x_test)
ypredict
r2(y_test,ypredict)
plt.plot(x_test,ypredict, color = 'red', linewidth = 3)
plt.scatter(x,y,color='g')
plt.scatter(x_train,y_train,color='b')
plt.show()
lr.score(x_train,y_train)
rmse=np.sqrt(mse(y_test, ypredict))
rmse # predicted value away from approximately 4 values
lr.predict([[8]])
